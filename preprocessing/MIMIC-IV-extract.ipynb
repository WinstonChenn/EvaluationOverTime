{
 "cells": [
  {
   "attachments": {},
   "cell_type": "markdown",
   "metadata": {},
   "source": [
    "# MIMIV-IV Preprocessing Code\n",
    "The preprocessing is based on MIMIC-Extract (https://arxiv.org/pdf/1907.08322.pdf). <br>\n",
    "We use MIMIV-IV-1.0 as the (https://physionet.org/content/mimiciv/1.0/). <br>\n",
    "\n",
    "Steps: <br>\n",
    "(1) Download MIMIC-IV-1.0 from physionet (link above). <br>\n",
    "(2) Run the notebook from the first cell to the last. This will take about 15 hrs to complete running. <br>\n",
    "(3) To use this with our EMDOT python package, run MIMICicuDatasetProcessor.py with \"MIMIC_icu_cate_raw.csv\" as the input file. <br>\n",
    "\n",
    "<br>\n",
    "\n",
    "Notice: As some of the processes take a while, we manually save the intermediate results (as dataframes). The dataframe outputs at the end of this notebook (i.e. MIMIC_icu_cate_raw.csv) is the fully-processed MIMIC-IV data."
   ]
  },
  {
   "cell_type": "markdown",
   "metadata": {},
   "source": [
    "## Import libraries"
   ]
  },
  {
   "cell_type": "code",
   "execution_count": null,
   "metadata": {},
   "outputs": [],
   "source": [
    "import os\n",
    "import yaml\n",
    "import json\n",
    "\n",
    "import pandas as pd\n",
    "import numpy as np\n",
    "from tqdm.notebook import tqdm\n",
    "import matplotlib.pyplot as plt"
   ]
  },
  {
   "cell_type": "code",
   "execution_count": null,
   "metadata": {},
   "outputs": [],
   "source": [
    "# To test this code on a subset of patients, set N to a small number\n",
    "N = None\n",
    "# N = 10"
   ]
  },
  {
   "cell_type": "markdown",
   "metadata": {},
   "source": [
    "## 1. Load icu_stay table & Select distinct patient based on first admitted time"
   ]
  },
  {
   "cell_type": "code",
   "execution_count": null,
   "metadata": {},
   "outputs": [],
   "source": [
    "## The parent directory for MIMIC-IV dataset\n",
    "parent_dir = ''  #TODO: Enter the path to folder containing MIMIC-IV dataset\n",
    "\n",
    "data_dir = os.path.join(parent_dir, \"physionet.org\", \"files\", \"mimiciv\", \"1.0\")"
   ]
  },
  {
   "cell_type": "code",
   "execution_count": null,
   "metadata": {},
   "outputs": [],
   "source": [
    "df_icu_stay = pd.read_csv(data_dir + \"/icu/icustays.csv.gz\", compression='gzip', header=0, index_col=None)"
   ]
  },
  {
   "cell_type": "code",
   "execution_count": null,
   "metadata": {},
   "outputs": [],
   "source": [
    "print(df_icu_stay.shape)\n",
    "df_icu_stay.head()"
   ]
  },
  {
   "cell_type": "code",
   "execution_count": null,
   "metadata": {},
   "outputs": [],
   "source": [
    "df_icu_stay[\"intime\"] = pd.to_datetime(df_icu_stay[\"intime\"])\n",
    "df_icu_stay[\"outtime\"] = pd.to_datetime(df_icu_stay[\"outtime\"])\n",
    "df_icu_stay = df_icu_stay.loc[df_icu_stay.groupby(\"subject_id\")[\"intime\"].idxmin()]\n",
    "df_icu_stay.shape"
   ]
  },
  {
   "cell_type": "code",
   "execution_count": null,
   "metadata": {},
   "outputs": [],
   "source": [
    "if N is not None:\n",
    "    df_icu_stay = df_icu_stay.iloc[:N, :]"
   ]
  },
  {
   "attachments": {},
   "cell_type": "markdown",
   "metadata": {},
   "source": [
    "### Checking if there is only one record for each id\n",
    "Expect no printing!"
   ]
  },
  {
   "cell_type": "code",
   "execution_count": null,
   "metadata": {},
   "outputs": [],
   "source": [
    "for sub_id, df_by_id in df_icu_stay.groupby(\"stay_id\"):\n",
    "    if df_by_id.shape[0] > 1:\n",
    "        print(sub_id)"
   ]
  },
  {
   "cell_type": "markdown",
   "metadata": {},
   "source": [
    "## 2. Load core_patient table & Merge by subject_id"
   ]
  },
  {
   "cell_type": "code",
   "execution_count": null,
   "metadata": {},
   "outputs": [],
   "source": [
    "df_core_patient = pd.read_csv(data_dir + \"/core/patients.csv.gz\", compression='gzip', header=0, index_col = None)"
   ]
  },
  {
   "cell_type": "code",
   "execution_count": null,
   "metadata": {},
   "outputs": [],
   "source": [
    "print(df_core_patient.shape)\n",
    "df_core_patient.head()"
   ]
  },
  {
   "cell_type": "code",
   "execution_count": null,
   "metadata": {},
   "outputs": [],
   "source": [
    "df_icu_stay_merge = df_icu_stay.merge(df_core_patient, left_on=\"subject_id\", right_on=\"subject_id\", how=\"inner\")"
   ]
  },
  {
   "cell_type": "code",
   "execution_count": null,
   "metadata": {},
   "outputs": [],
   "source": [
    "print(df_icu_stay_merge.shape)\n",
    "df_icu_stay_merge.head()"
   ]
  },
  {
   "cell_type": "markdown",
   "metadata": {},
   "source": [
    "## 3. Load chart_events table & d_items table"
   ]
  },
  {
   "cell_type": "code",
   "execution_count": null,
   "metadata": {},
   "outputs": [],
   "source": [
    "df_chart_event = pd.read_csv(data_dir + \"/icu/chartevents.csv.gz\", compression='gzip', header=0, index_col = None)"
   ]
  },
  {
   "cell_type": "code",
   "execution_count": null,
   "metadata": {},
   "outputs": [],
   "source": [
    "df_chart_event[\"charttime\"] = pd.to_datetime(df_chart_event[\"charttime\"])"
   ]
  },
  {
   "cell_type": "code",
   "execution_count": null,
   "metadata": {},
   "outputs": [],
   "source": [
    "print(df_chart_event.shape)\n",
    "df_chart_event.head()"
   ]
  },
  {
   "cell_type": "code",
   "execution_count": null,
   "metadata": {},
   "outputs": [],
   "source": [
    "df_items = pd.read_csv(data_dir + \"/icu/d_items.csv.gz\", compression='gzip', header=0, index_col = None)"
   ]
  },
  {
   "cell_type": "code",
   "execution_count": null,
   "metadata": {},
   "outputs": [],
   "source": [
    "print(df_items.shape)\n",
    "df_items.head()"
   ]
  },
  {
   "cell_type": "code",
   "execution_count": null,
   "metadata": {},
   "outputs": [],
   "source": [
    "df_items[df_items[\"linksto\"] == \"procedureevents\"]"
   ]
  },
  {
   "cell_type": "markdown",
   "metadata": {},
   "source": [
    "### Select the latest value of each event in 24 hours"
   ]
  },
  {
   "cell_type": "code",
   "execution_count": null,
   "metadata": {},
   "outputs": [],
   "source": [
    "df_items_chart = df_items[df_items[\"linksto\"] == \"chartevents\"]"
   ]
  },
  {
   "cell_type": "code",
   "execution_count": null,
   "metadata": {},
   "outputs": [],
   "source": [
    "print(df_items_chart.shape)\n",
    "len(df_items_chart[\"itemid\"].unique().tolist())"
   ]
  },
  {
   "cell_type": "markdown",
   "metadata": {},
   "source": [
    "### Add new empty columns of corresponding chartevent"
   ]
  },
  {
   "cell_type": "code",
   "execution_count": null,
   "metadata": {
    "scrolled": true
   },
   "outputs": [],
   "source": [
    "df_icu_stay_merge[df_items_chart[\"abbreviation\"].unique().tolist()] = np.nan"
   ]
  },
  {
   "cell_type": "code",
   "execution_count": null,
   "metadata": {},
   "outputs": [],
   "source": [
    "print(df_icu_stay_merge.shape)\n",
    "df_icu_stay_merge.head()"
   ]
  },
  {
   "cell_type": "code",
   "execution_count": null,
   "metadata": {},
   "outputs": [],
   "source": [
    "for sub_id, df_by_sub_id in tqdm(df_icu_stay_merge.groupby(\"subject_id\"), desc=\"sub_id\", leave=False):\n",
    "    df_chart_tmp = df_chart_event[df_chart_event[\"subject_id\"] == sub_id]\n",
    "    ## Select the measurement that is happened after 24 hours of the admit time\n",
    "    df_chart_tmp = df_chart_tmp[(df_chart_tmp[\"charttime\"] - df_by_sub_id[\"intime\"].item()) <= pd.Timedelta(days=1)]\n",
    "    \n",
    "    for item_id, df_by_item_id in tqdm(df_chart_tmp.groupby(\"itemid\"), desc=\"item_id\", leave=False):\n",
    "        df_by_item_id = df_by_item_id.loc[df_by_item_id[\"charttime\"].idxmax()]\n",
    "        df_icu_stay_merge.loc[df_icu_stay_merge[\"subject_id\"] == sub_id, df_items_chart[df_items_chart[\"itemid\"] == item_id][\"abbreviation\"].item()] = df_by_item_id[\"value\"]\n",
    "        df_by_sub_id[df_items_chart[df_items_chart[\"itemid\"] == item_id][\"abbreviation\"]] = df_by_item_id[\"value\"]\n",
    "    "
   ]
  },
  {
   "cell_type": "code",
   "execution_count": null,
   "metadata": {},
   "outputs": [],
   "source": [
    "print(df_icu_stay_merge.shape)\n",
    "df_icu_stay_merge.head()"
   ]
  },
  {
   "cell_type": "code",
   "execution_count": null,
   "metadata": {},
   "outputs": [],
   "source": [
    "df_icu_stay_merge.to_csv(\"MIMIC_IV_icu_chart.csv\")"
   ]
  },
  {
   "cell_type": "markdown",
   "metadata": {},
   "source": [
    "### drop constant"
   ]
  },
  {
   "cell_type": "code",
   "execution_count": null,
   "metadata": {},
   "outputs": [],
   "source": [
    "df_icu_stay_merge.dropna(axis=1, how=\"all\")"
   ]
  },
  {
   "cell_type": "code",
   "execution_count": null,
   "metadata": {},
   "outputs": [],
   "source": [
    "df_icu_stay_merge.to_csv(\"MIMIC_IV_icu_chart_drop_all_nan.csv\")"
   ]
  },
  {
   "cell_type": "code",
   "execution_count": null,
   "metadata": {},
   "outputs": [],
   "source": [
    "df_icu_stay_merge = pd.read_csv(\"MIMIC_IV_icu_chart_drop_all_nan.csv\", index_col=0, low_memory=False)"
   ]
  },
  {
   "cell_type": "code",
   "execution_count": null,
   "metadata": {},
   "outputs": [],
   "source": [
    "print(df_icu_stay_merge.shape)\n",
    "df_icu_stay_merge.head()"
   ]
  },
  {
   "cell_type": "code",
   "execution_count": null,
   "metadata": {},
   "outputs": [],
   "source": [
    "df_icu_stay_merge[\"intime\"] = pd.to_datetime(df_icu_stay_merge[\"intime\"])"
   ]
  },
  {
   "cell_type": "code",
   "execution_count": null,
   "metadata": {},
   "outputs": [],
   "source": [
    "middle_year = df_icu_stay_merge[\"anchor_year_group\"].values\n",
    "middle_year = [int(f[:4]) + 1 for f in middle_year]\n",
    "df_icu_stay_merge[\"admit_year\"] = middle_year + df_icu_stay_merge[\"intime\"].dt.year - df_icu_stay_merge[\"anchor_year\"]"
   ]
  },
  {
   "cell_type": "code",
   "execution_count": null,
   "metadata": {},
   "outputs": [],
   "source": [
    "np.sort(df_icu_stay_merge[\"admit_year\"].unique())"
   ]
  },
  {
   "cell_type": "code",
   "execution_count": null,
   "metadata": {},
   "outputs": [],
   "source": [
    "for year, df_by_year in df_icu_stay_merge.groupby(\"admit_year\"):\n",
    "    num = df_by_year[df_by_year[\"los\"] > 3].shape[0]\n",
    "    print(f\"Year: {year}   # sample: {df_by_year.shape[0]}   # los > 3 sample: {num}\")"
   ]
  },
  {
   "cell_type": "markdown",
   "metadata": {},
   "source": [
    "## 4. Load procedure table & d_items table"
   ]
  },
  {
   "cell_type": "code",
   "execution_count": null,
   "metadata": {},
   "outputs": [],
   "source": [
    "df_procedure_event = pd.read_csv(data_dir + \"/icu/procedureevents.csv.gz\", compression='gzip', header=0, index_col = None)"
   ]
  },
  {
   "cell_type": "code",
   "execution_count": null,
   "metadata": {},
   "outputs": [],
   "source": [
    "df_procedure_event[\"starttime\"] = pd.to_datetime(df_procedure_event[\"starttime\"])\n",
    "df_procedure_event[\"endtime\"] = pd.to_datetime(df_procedure_event[\"endtime\"])"
   ]
  },
  {
   "cell_type": "code",
   "execution_count": null,
   "metadata": {},
   "outputs": [],
   "source": [
    "print(df_procedure_event.shape)\n",
    "df_procedure_event.head()"
   ]
  },
  {
   "cell_type": "code",
   "execution_count": null,
   "metadata": {},
   "outputs": [],
   "source": [
    "df_items = pd.read_csv(data_dir + \"/icu/d_items.csv.gz\", compression='gzip', header=0, index_col = None)"
   ]
  },
  {
   "cell_type": "markdown",
   "metadata": {},
   "source": [
    "### Select the latest value of each event in 24 hours"
   ]
  },
  {
   "cell_type": "code",
   "execution_count": null,
   "metadata": {},
   "outputs": [],
   "source": [
    "df_items_procedure = df_items[df_items[\"linksto\"] == \"procedureevents\"]"
   ]
  },
  {
   "cell_type": "code",
   "execution_count": null,
   "metadata": {},
   "outputs": [],
   "source": [
    "print(df_items_procedure.shape)\n",
    "df_items_procedure.head()"
   ]
  },
  {
   "cell_type": "code",
   "execution_count": null,
   "metadata": {},
   "outputs": [],
   "source": [
    "df_icu_stay_merge[df_items_procedure[\"abbreviation\"].unique().tolist()] = np.nan"
   ]
  },
  {
   "cell_type": "code",
   "execution_count": null,
   "metadata": {},
   "outputs": [],
   "source": [
    "for sub_id, df_by_sub_id in tqdm(df_icu_stay_merge.groupby(\"subject_id\"), desc=\"sub_id\", leave=False):\n",
    "    df_procedure_tmp = df_procedure_event[df_procedure_event[\"subject_id\"] == sub_id]\n",
    "    ## Select the measurement that is happened after 24 hours of the admit time\n",
    "    df_procedure_tmp = df_procedure_tmp[(df_procedure_tmp[\"endtime\"] - df_by_sub_id[\"intime\"].item()) <= pd.Timedelta(days=1)]\n",
    "    \n",
    "    for item_id, df_by_item_id in tqdm(df_procedure_tmp.groupby(\"itemid\"), desc=\"item_id\", leave=False):\n",
    "        df_by_item_id = df_by_item_id.loc[df_by_item_id[\"endtime\"].idxmax()]\n",
    "        df_icu_stay_merge.loc[df_icu_stay_merge[\"subject_id\"] == sub_id, df_items_procedure[df_items_procedure[\"itemid\"] == item_id][\"abbreviation\"].item()] = df_by_item_id[\"value\"]"
   ]
  },
  {
   "cell_type": "code",
   "execution_count": null,
   "metadata": {},
   "outputs": [],
   "source": [
    "print(df_icu_stay_merge.shape)\n",
    "df_icu_stay_merge.head()"
   ]
  },
  {
   "cell_type": "code",
   "execution_count": null,
   "metadata": {},
   "outputs": [],
   "source": [
    "df_icu_stay_merge.to_csv(\"MIMIC_IV_icu_chart_procedure.csv\")"
   ]
  },
  {
   "cell_type": "markdown",
   "metadata": {},
   "source": [
    "### drop constant"
   ]
  },
  {
   "cell_type": "code",
   "execution_count": null,
   "metadata": {},
   "outputs": [],
   "source": [
    "df_icu_stay_merge.dropna(axis=1, how=\"all\", inplace=True)"
   ]
  },
  {
   "cell_type": "code",
   "execution_count": null,
   "metadata": {},
   "outputs": [],
   "source": [
    "df_icu_stay_merge.to_csv(\"MIMIC_IV_icu_chart_drop_all_nan.csv\")"
   ]
  },
  {
   "cell_type": "code",
   "execution_count": null,
   "metadata": {},
   "outputs": [],
   "source": [
    "df_icu_stay_merge = pd.read_csv(\"MIMIC_IV_icu_chart_drop_all_nan.csv\", index_col=0, low_memory=False)"
   ]
  },
  {
   "cell_type": "code",
   "execution_count": null,
   "metadata": {},
   "outputs": [],
   "source": [
    "df_icu_stay_merge.head()"
   ]
  },
  {
   "cell_type": "code",
   "execution_count": null,
   "metadata": {},
   "outputs": [],
   "source": [
    "df_icu_stay_merge[\"intime\"] = pd.to_datetime(df_icu_stay_merge[\"intime\"])"
   ]
  },
  {
   "cell_type": "markdown",
   "metadata": {},
   "source": [
    "## 5. Load lab table & d_items table"
   ]
  },
  {
   "cell_type": "code",
   "execution_count": null,
   "metadata": {},
   "outputs": [],
   "source": [
    "df_lab_event = pd.read_csv(data_dir + \"/hosp/labevents.csv.gz\", compression='gzip', header=0, index_col=None)"
   ]
  },
  {
   "cell_type": "code",
   "execution_count": null,
   "metadata": {},
   "outputs": [],
   "source": [
    "print(df_lab_event.shape)\n",
    "df_lab_event.head()"
   ]
  },
  {
   "cell_type": "code",
   "execution_count": null,
   "metadata": {},
   "outputs": [],
   "source": [
    "df_lab_event[\"charttime\"] = pd.to_datetime(df_lab_event[\"charttime\"])"
   ]
  },
  {
   "cell_type": "code",
   "execution_count": null,
   "metadata": {},
   "outputs": [],
   "source": [
    "df_items = pd.read_csv(data_dir + \"/hosp/d_labitems.csv.gz\", compression='gzip', header=0, index_col = None)"
   ]
  },
  {
   "cell_type": "code",
   "execution_count": null,
   "metadata": {},
   "outputs": [],
   "source": [
    "df_items.loc[df_items[\"label\"] == \" \", \"label\"] = df_items.loc[df_items[\"label\"] == \" \", \"fluid\"]"
   ]
  },
  {
   "cell_type": "code",
   "execution_count": null,
   "metadata": {},
   "outputs": [],
   "source": [
    "print(df_items.shape)\n",
    "df_items.head()"
   ]
  },
  {
   "cell_type": "markdown",
   "metadata": {},
   "source": [
    "### Select the latest value of each event in 24 hours"
   ]
  },
  {
   "cell_type": "code",
   "execution_count": null,
   "metadata": {
    "scrolled": true
   },
   "outputs": [],
   "source": [
    "df_icu_stay_merge[df_items[\"label\"].unique().tolist()] = np.nan"
   ]
  },
  {
   "cell_type": "code",
   "execution_count": null,
   "metadata": {
    "scrolled": true
   },
   "outputs": [],
   "source": [
    "for sub_id, df_by_sub_id in tqdm(df_icu_stay_merge.groupby(\"subject_id\"), desc=\"sub_id\", leave=False, mininterval=0):\n",
    "    df_lab_tmp = df_lab_event[df_lab_event[\"subject_id\"] == sub_id]\n",
    "    ## Select the measurement that is happened after 24 hours of the admit time\n",
    "    df_lab_tmp = df_lab_tmp[(df_lab_tmp[\"charttime\"] - df_by_sub_id[\"intime\"].item()) <= pd.Timedelta(days=1)]\n",
    "    \n",
    "    for item_id, df_by_item_id in tqdm(df_lab_tmp.groupby(\"itemid\"), desc=\"item_id\", leave=False, mininterval=0):\n",
    "        df_by_item_id = df_by_item_id.loc[df_by_item_id[\"charttime\"].idxmax()]\n",
    "        df_icu_stay_merge.loc[df_icu_stay_merge[\"subject_id\"] == sub_id, df_items[df_items[\"itemid\"] == item_id][\"label\"].item()] = df_by_item_id[\"value\"]"
   ]
  },
  {
   "cell_type": "code",
   "execution_count": null,
   "metadata": {},
   "outputs": [],
   "source": [
    "df_icu_stay_merge.dropna(axis=1, how=\"all\", inplace=True)"
   ]
  },
  {
   "cell_type": "code",
   "execution_count": null,
   "metadata": {},
   "outputs": [],
   "source": [
    "print(df_icu_stay_merge.shape)\n",
    "df_icu_stay_merge.head()"
   ]
  },
  {
   "attachments": {},
   "cell_type": "markdown",
   "metadata": {},
   "source": [
    "## 6. Additional pre-processing \n",
    "(This section is pre-processed based on the above steps. If e.g. the thresholds are different, some columns pre-processed explicitly below may not exist.)"
   ]
  },
  {
   "attachments": {},
   "cell_type": "markdown",
   "metadata": {},
   "source": [
    "### Drop feature if the values are missed for more than half of the patients"
   ]
  },
  {
   "cell_type": "code",
   "execution_count": null,
   "metadata": {},
   "outputs": [],
   "source": [
    "nan_portion_list = []\n",
    "\n",
    "for col in tqdm(df_icu_stay_merge.columns.tolist(), desc=\"Col\", leave=False):\n",
    "    num = df_icu_stay_merge[df_icu_stay_merge[col].isnull()].shape[0] / df_icu_stay_merge.shape[0]\n",
    "    nan_portion_list.append(num)"
   ]
  },
  {
   "cell_type": "code",
   "execution_count": null,
   "metadata": {},
   "outputs": [],
   "source": [
    "col_list_index = [index for index, value in enumerate(nan_portion_list) if value <= 0.5]"
   ]
  },
  {
   "cell_type": "code",
   "execution_count": null,
   "metadata": {},
   "outputs": [],
   "source": [
    "select_col = []\n",
    "\n",
    "for index in col_list_index:\n",
    "    select_col.append(df_icu_stay_merge.columns.tolist()[index])"
   ]
  },
  {
   "cell_type": "code",
   "execution_count": null,
   "metadata": {},
   "outputs": [],
   "source": [
    "df_icu_stay_merge_selected = df_icu_stay_merge.loc[:, select_col]\n",
    "df_icu_stay_merge_selected.to_csv(\"df_icu_selected.csv\")"
   ]
  },
  {
   "attachments": {},
   "cell_type": "markdown",
   "metadata": {},
   "source": [
    "### Determine numerical and categorical features"
   ]
  },
  {
   "cell_type": "code",
   "execution_count": null,
   "metadata": {},
   "outputs": [],
   "source": [
    "df_chart_procedure_id = pd.read_csv(data_dir + \"/icu/d_items.csv.gz\", compression='gzip', header=0, index_col = None)\n",
    "df_lab_id = pd.read_csv(data_dir + \"/hosp/d_labitems.csv.gz\", compression='gzip', header=0, index_col = None)"
   ]
  },
  {
   "cell_type": "code",
   "execution_count": null,
   "metadata": {},
   "outputs": [],
   "source": [
    "df_lab_event = pd.read_csv(data_dir + \"/hosp/labevents.csv.gz\", compression='gzip', header=0, index_col=None)"
   ]
  },
  {
   "cell_type": "code",
   "execution_count": null,
   "metadata": {
    "scrolled": true
   },
   "outputs": [],
   "source": [
    "feature_dict_cate = {\n",
    "    \"Numerical\": [],\n",
    "    \"Categorical\": [],\n",
    "    \"label\": []\n",
    "}\n",
    "\n",
    "NMETA = 12\n",
    "\n",
    "feature_col = df_icu_stay_merge_selected.columns[NMETA:]\n",
    "\n",
    "for col in feature_col:\n",
    "    if col in df_chart_procedure_id[\"abbreviation\"].tolist():\n",
    "        if df_chart_procedure_id.loc[df_chart_procedure_id[\"abbreviation\"] == col, \"param_type\"].iloc[0] == \"Numberic\":\n",
    "            feature_dict_cate[\"Numerical\"].append(col)\n",
    "        else:\n",
    "            feature_dict_cate[\"Categorical\"].append(col)\n",
    "    elif col in df_lab_id[\"label\"].tolist():\n",
    "        item_id_list = df_lab_id.loc[df_lab_id[\"label\"] == col, \"itemid\"].tolist()\n",
    "        for item_id in item_id_list:\n",
    "            df_tmp = df_lab_event[df_lab_event[\"itemid\"] == item_id]\n",
    "            if df_tmp.shape[0] > 0:\n",
    "                if df_tmp[\"valuenum\"].isnull().iloc[0]:\n",
    "                    feature_dict_cate[\"Categorical\"].append(col)\n",
    "                else:\n",
    "                    feature_dict_cate[\"Numerical\"].append(col)\n",
    "                break\n",
    "    else:\n",
    "        print(col)"
   ]
  },
  {
   "attachments": {},
   "cell_type": "markdown",
   "metadata": {},
   "source": [
    "### Calculate patients' age"
   ]
  },
  {
   "cell_type": "code",
   "execution_count": null,
   "metadata": {},
   "outputs": [],
   "source": [
    "df_icu_stay_merge_selected[\"intime\"] = pd.to_datetime(df_icu_stay_merge_selected[\"intime\"])\n",
    "df_icu_stay_merge_selected[\"admit_age\"] = df_icu_stay_merge_selected[\"intime\"].dt.year - df_icu_stay_merge_selected[\"anchor_year\"] + df_icu_stay_merge_selected[\"anchor_age\"]"
   ]
  },
  {
   "attachments": {},
   "cell_type": "markdown",
   "metadata": {},
   "source": [
    "### Manually add features"
   ]
  },
  {
   "cell_type": "code",
   "execution_count": null,
   "metadata": {},
   "outputs": [],
   "source": [
    "feature_dict_cate[\"Numerical\"].append(\"admit_year\")"
   ]
  },
  {
   "cell_type": "code",
   "execution_count": null,
   "metadata": {},
   "outputs": [],
   "source": [
    "feature_dict_cate[\"Numerical\"].append(\"admit_age\")"
   ]
  },
  {
   "cell_type": "code",
   "execution_count": null,
   "metadata": {},
   "outputs": [],
   "source": [
    "feature_dict_cate[\"Categorical\"].append(\"gender\")"
   ]
  },
  {
   "cell_type": "code",
   "execution_count": null,
   "metadata": {},
   "outputs": [],
   "source": [
    "feature_dict_cate[\"label\"].append(\"los\")"
   ]
  },
  {
   "cell_type": "code",
   "execution_count": null,
   "metadata": {},
   "outputs": [],
   "source": [
    "feature_dict_cate[\"label\"].append(\"dod\")"
   ]
  },
  {
   "cell_type": "code",
   "execution_count": null,
   "metadata": {},
   "outputs": [],
   "source": [
    "df_icu_stay_merge_selected.to_csv(\"MIMIC_icu_cate_raw.csv\")"
   ]
  },
  {
   "attachments": {},
   "cell_type": "markdown",
   "metadata": {},
   "source": [
    "### Save the feature information"
   ]
  },
  {
   "cell_type": "code",
   "execution_count": null,
   "metadata": {},
   "outputs": [],
   "source": [
    "with open(\"feature_yaml_cate.yaml\", \"w+\") as f:\n",
    "    yaml.dump(feature_dict_cate, f)"
   ]
  },
  {
   "cell_type": "code",
   "execution_count": null,
   "metadata": {},
   "outputs": [],
   "source": [
    "with open(\"feature_dict_cate.json\", \"w+\") as f:\n",
    "    json.dump(feature_dict_cate, f)"
   ]
  },
  {
   "cell_type": "code",
   "execution_count": null,
   "metadata": {},
   "outputs": [],
   "source": [
    "for year, df_by_year in df_icu_stay_merge_selected.groupby(\"admit_year\"):\n",
    "    num = df_by_year[df_by_year[\"los\"] > 3].shape[0]\n",
    "    print(f\"Year: {year}   # sample: {df_by_year.shape[0]}   # los > 3 sample: {num}\")"
   ]
  },
  {
   "attachments": {},
   "cell_type": "markdown",
   "metadata": {},
   "source": [
    "### Clean up the dataset (Replace string with approximate numerical values)"
   ]
  },
  {
   "cell_type": "code",
   "execution_count": null,
   "metadata": {},
   "outputs": [],
   "source": [
    "df_icu_stay_merge_selected[\"Epithelial Cells\"].replace({\n",
    "    '0-2': \"1\",\n",
    "    '<1': \"1\",\n",
    "    '6-10': \"8\",\n",
    "    '11-20': \"15.5\",\n",
    "    '21-50': \"35\",\n",
    "    ' ': np.nan,\n",
    "    '11/20': \"15.5\",\n",
    "    'N': np.nan,\n",
    "    '>50': \"50\",\n",
    "    ' 0-2': \"1\",\n",
    "    '3-5': \"4\"\n",
    "}, inplace=True)"
   ]
  },
  {
   "cell_type": "code",
   "execution_count": null,
   "metadata": {},
   "outputs": [],
   "source": [
    "df_icu_stay_merge_selected[\"INR(PT)\"].replace({\n",
    "    'UNABLE TO REPORT': np.nan,\n",
    "    '>13.1': \"13.1\",\n",
    "    'ERROR': np.nan,\n",
    "    '>16.0': \"16.0\",\n",
    "    'LAB ERROR': np.nan\n",
    "}, inplace=True)"
   ]
  },
  {
   "cell_type": "code",
   "execution_count": null,
   "metadata": {},
   "outputs": [],
   "source": [
    "df_icu_stay_merge_selected[\"pH\"].replace({\n",
    "    'NotDone': np.nan,\n",
    "    ' ': np.nan\n",
    "}, inplace=True)"
   ]
  },
  {
   "cell_type": "code",
   "execution_count": null,
   "metadata": {},
   "outputs": [],
   "source": [
    "df_icu_stay_merge_selected[\"RBC\"].replace({\n",
    "    '3-5': \"4\",\n",
    "    '6-10': \"8\",\n",
    "    '0-2': \"1\",\n",
    "    '>50': \"50\",\n",
    "    '11-20': \"15.5\",\n",
    "    '>1000': \"1000\",\n",
    "    '21-50': \"35\",\n",
    "    ' ': np.nan,\n",
    "    '<1': \"1\",\n",
    "    '0-20-2': \"20\",\n",
    "    'O': \"0\"\n",
    "}, inplace=True)"
   ]
  },
  {
   "cell_type": "code",
   "execution_count": null,
   "metadata": {},
   "outputs": [],
   "source": [
    "df_icu_stay_merge_selected[\"Specific Gravity\"].replace({\n",
    "    '>1.035': \"1.035\",\n",
    "    '>1.050': \"1.050\",\n",
    "    '<1.005': \"1.005\",\n",
    "    '<=1.005': \"1.005\",\n",
    "    '>1.040': \"1.040\",\n",
    "    '>=1.035': \"1.035\",\n",
    "    ' ': np.nan,\n",
    "    '>1.030': \"1.030\",\n",
    "    '> 1.035': \"1.035\",\n",
    "    '>1.038': \"1.038\",\n",
    "    '>=1.030': \"1.030\",\n",
    "    '1..025': \"1.025\",\n",
    "    '.1.012': \"1.012\"\n",
    "}, inplace=True)"
   ]
  },
  {
   "attachments": {},
   "cell_type": "markdown",
   "metadata": {},
   "source": [
    "### Add feature \"dod\""
   ]
  },
  {
   "cell_type": "code",
   "execution_count": null,
   "metadata": {},
   "outputs": [],
   "source": [
    "df_core_patient = pd.read_csv(data_dir + \"/core/patients.csv.gz\", compression='gzip', header=0, index_col = None)"
   ]
  },
  {
   "cell_type": "code",
   "execution_count": null,
   "metadata": {},
   "outputs": [],
   "source": [
    "df_core_patient = df_core_patient.drop(columns=[\"gender\", \"anchor_age\", \"anchor_year\", \"anchor_year_group\"])"
   ]
  },
  {
   "cell_type": "code",
   "execution_count": null,
   "metadata": {},
   "outputs": [],
   "source": [
    "df_icu_stay_merge_selected = df_icu_stay_merge_selected.merge(df_core_patient, left_on=\"subject_id\", right_on=\"subject_id\", how=\"inner\")"
   ]
  },
  {
   "attachments": {},
   "cell_type": "markdown",
   "metadata": {},
   "source": [
    "# Save processed data"
   ]
  },
  {
   "cell_type": "code",
   "execution_count": null,
   "metadata": {},
   "outputs": [],
   "source": [
    "## This is fully-processed MIMIC-IV data\n",
    "df_icu_stay_merge_selected.rename(columns={\"Activity \": \"Activity\"}).to_csv(\"MIMIC_icu_cate_raw.csv\")"
   ]
  }
 ],
 "metadata": {
  "kernelspec": {
   "display_name": "base",
   "language": "python",
   "name": "python3"
  },
  "language_info": {
   "codemirror_mode": {
    "name": "ipython",
    "version": 3
   },
   "file_extension": ".py",
   "mimetype": "text/x-python",
   "name": "python",
   "nbconvert_exporter": "python",
   "pygments_lexer": "ipython3",
   "version": "3.8.3"
  },
  "vscode": {
   "interpreter": {
    "hash": "5c0c70546662cbfb4501903633e87cb8f11618b84600ff2135b4bbfd529ed777"
   }
  }
 },
 "nbformat": 4,
 "nbformat_minor": 4
}
